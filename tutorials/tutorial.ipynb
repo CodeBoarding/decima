{
 "cells": [
  {
   "cell_type": "markdown",
   "id": "269068ce-fc69-4fde-9910-7e16f2527acd",
   "metadata": {},
   "source": [
    "# How to use Decima"
   ]
  },
  {
   "cell_type": "code",
   "execution_count": 1,
   "id": "df9c609a-58b8-422d-8e40-8b543067e8ba",
   "metadata": {},
   "outputs": [],
   "source": [
    "import numpy as np\n",
    "import pandas as pd\n",
    "import anndata\n",
    "import torch\n",
    "import os, sys\n",
    "\n",
    "# Import Decima functions\n",
    "sys.path.append('../src/')\n",
    "\n",
    "%matplotlib inline"
   ]
  },
  {
   "cell_type": "markdown",
   "id": "929a0ea3-b6d3-42fe-bb22-d78cfe57385f",
   "metadata": {},
   "source": [
    "## Load the model checkpoint and data"
   ]
  },
  {
   "cell_type": "code",
   "execution_count": 2,
   "id": "07e3c883-a919-45d2-8bfd-361e4fe91093",
   "metadata": {
    "scrolled": true
   },
   "outputs": [],
   "source": [
    "#!wget https://zenodo.org/records/15092691/files/rep0.ckpt # Model replicate 0 - change the number to get replicates 1-3\n",
    "#!wget https://zenodo.org/records/15092691/files/Supplementary_file_1.h5ad # Metadata and predictions"
   ]
  },
  {
   "cell_type": "code",
   "execution_count": 2,
   "id": "ebb92d38-ab01-44ad-b2da-772d17551f39",
   "metadata": {},
   "outputs": [],
   "source": [
    "matrix_file='Supplementary_file_1.h5ad'\n",
    "model_file = 'rep0.ckpt'"
   ]
  },
  {
   "cell_type": "markdown",
   "id": "82ef1dee-74bf-455d-b650-3cc50c2d6056",
   "metadata": {},
   "source": [
    "## How to find predictions for a gene of interest"
   ]
  },
  {
   "cell_type": "markdown",
   "id": "98ffd899-d2e6-4a83-814b-d843f0289a84",
   "metadata": {},
   "source": [
    "`matrix_file` contains the pseudobulk metadata in `.obs`, the gene metadata in `.var`, along with Decima's predictions for each gene and pseudobulk in `.layers['preds']`. Note that the predictions in this file are the average over four replicate models."
   ]
  },
  {
   "cell_type": "code",
   "execution_count": 3,
   "id": "f81c2544-ab22-4434-8dcf-2700343d7093",
   "metadata": {},
   "outputs": [],
   "source": [
    "ad = anndata.read_h5ad(matrix_file)"
   ]
  },
  {
   "cell_type": "code",
   "execution_count": 4,
   "id": "f59d4430-84a0-4e0d-8dcc-7d7efa01d97e",
   "metadata": {},
   "outputs": [
    {
     "data": {
      "text/plain": [
       "AnnData object with n_obs × n_vars = 8856 × 18457\n",
       "    obs: 'cell_type', 'tissue', 'organ', 'disease', 'study', 'dataset', 'region', 'subregion', 'celltype_coarse', 'n_cells', 'total_counts', 'n_genes', 'size_factor', 'train_pearson', 'val_pearson', 'test_pearson'\n",
       "    var: 'chrom', 'start', 'end', 'strand', 'gene_type', 'frac_nan', 'mean_counts', 'n_tracks', 'gene_start', 'gene_end', 'gene_length', 'gene_mask_start', 'gene_mask_end', 'frac_N', 'fold', 'dataset', 'gene_id', 'pearson', 'size_factor_pearson'\n",
       "    uns: 'log1p'\n",
       "    layers: 'preds'"
      ]
     },
     "execution_count": 4,
     "metadata": {},
     "output_type": "execute_result"
    }
   ],
   "source": [
    "ad"
   ]
  },
  {
   "cell_type": "code",
   "execution_count": 5,
   "id": "d3542462-25e0-4876-be65-e47e13e71cdc",
   "metadata": {},
   "outputs": [
    {
     "data": {
      "text/html": [
       "<div>\n",
       "<style scoped>\n",
       "    .dataframe tbody tr th:only-of-type {\n",
       "        vertical-align: middle;\n",
       "    }\n",
       "\n",
       "    .dataframe tbody tr th {\n",
       "        vertical-align: top;\n",
       "    }\n",
       "\n",
       "    .dataframe thead th {\n",
       "        text-align: right;\n",
       "    }\n",
       "</style>\n",
       "<table border=\"1\" class=\"dataframe\">\n",
       "  <thead>\n",
       "    <tr style=\"text-align: right;\">\n",
       "      <th></th>\n",
       "      <th>cell_type</th>\n",
       "      <th>tissue</th>\n",
       "      <th>organ</th>\n",
       "      <th>disease</th>\n",
       "      <th>study</th>\n",
       "      <th>dataset</th>\n",
       "      <th>region</th>\n",
       "      <th>subregion</th>\n",
       "      <th>celltype_coarse</th>\n",
       "      <th>n_cells</th>\n",
       "      <th>total_counts</th>\n",
       "      <th>n_genes</th>\n",
       "      <th>size_factor</th>\n",
       "      <th>train_pearson</th>\n",
       "      <th>val_pearson</th>\n",
       "      <th>test_pearson</th>\n",
       "    </tr>\n",
       "  </thead>\n",
       "  <tbody>\n",
       "    <tr>\n",
       "      <th>agg_0</th>\n",
       "      <td>Amygdala excitatory</td>\n",
       "      <td>Amygdala_Amygdala</td>\n",
       "      <td>CNS</td>\n",
       "      <td>healthy</td>\n",
       "      <td>jhpce#tran2021</td>\n",
       "      <td>brain_atlas</td>\n",
       "      <td>Amygdala</td>\n",
       "      <td>Amygdala</td>\n",
       "      <td>NaN</td>\n",
       "      <td>331</td>\n",
       "      <td>15928830.0</td>\n",
       "      <td>17000</td>\n",
       "      <td>41431.465186</td>\n",
       "      <td>0.942474</td>\n",
       "      <td>0.841879</td>\n",
       "      <td>0.865579</td>\n",
       "    </tr>\n",
       "    <tr>\n",
       "      <th>agg_1</th>\n",
       "      <td>Amygdala excitatory</td>\n",
       "      <td>Amygdala_Basolateral nuclear group (BLN) - lat...</td>\n",
       "      <td>CNS</td>\n",
       "      <td>healthy</td>\n",
       "      <td>SCR_016152</td>\n",
       "      <td>brain_atlas</td>\n",
       "      <td>Amygdala</td>\n",
       "      <td>Basolateral nuclear group (BLN) - lateral nucl...</td>\n",
       "      <td>NaN</td>\n",
       "      <td>11369</td>\n",
       "      <td>295213300.0</td>\n",
       "      <td>18080</td>\n",
       "      <td>40765.341481</td>\n",
       "      <td>0.943247</td>\n",
       "      <td>0.839565</td>\n",
       "      <td>0.860787</td>\n",
       "    </tr>\n",
       "    <tr>\n",
       "      <th>agg_2</th>\n",
       "      <td>Amygdala excitatory</td>\n",
       "      <td>Amygdala_Bed nucleus of stria terminalis and n...</td>\n",
       "      <td>CNS</td>\n",
       "      <td>healthy</td>\n",
       "      <td>SCR_016152</td>\n",
       "      <td>brain_atlas</td>\n",
       "      <td>Amygdala</td>\n",
       "      <td>Bed nucleus of stria terminalis and nearby - BNST</td>\n",
       "      <td>NaN</td>\n",
       "      <td>139</td>\n",
       "      <td>2593231.0</td>\n",
       "      <td>15418</td>\n",
       "      <td>42556.387020</td>\n",
       "      <td>0.952271</td>\n",
       "      <td>0.855175</td>\n",
       "      <td>0.866643</td>\n",
       "    </tr>\n",
       "    <tr>\n",
       "      <th>agg_3</th>\n",
       "      <td>Amygdala excitatory</td>\n",
       "      <td>Amygdala_Central nuclear group - CEN</td>\n",
       "      <td>CNS</td>\n",
       "      <td>healthy</td>\n",
       "      <td>SCR_016152</td>\n",
       "      <td>brain_atlas</td>\n",
       "      <td>Amygdala</td>\n",
       "      <td>Central nuclear group - CEN</td>\n",
       "      <td>NaN</td>\n",
       "      <td>3892</td>\n",
       "      <td>99463712.0</td>\n",
       "      <td>17959</td>\n",
       "      <td>42884.641430</td>\n",
       "      <td>0.959857</td>\n",
       "      <td>0.863817</td>\n",
       "      <td>0.881534</td>\n",
       "    </tr>\n",
       "    <tr>\n",
       "      <th>agg_4</th>\n",
       "      <td>Amygdala excitatory</td>\n",
       "      <td>Amygdala_Corticomedial nuclear group (CMN) - a...</td>\n",
       "      <td>CNS</td>\n",
       "      <td>healthy</td>\n",
       "      <td>SCR_016152</td>\n",
       "      <td>brain_atlas</td>\n",
       "      <td>Amygdala</td>\n",
       "      <td>Corticomedial nuclear group (CMN) - anterior c...</td>\n",
       "      <td>NaN</td>\n",
       "      <td>2945</td>\n",
       "      <td>128161939.0</td>\n",
       "      <td>17885</td>\n",
       "      <td>41816.741933</td>\n",
       "      <td>0.951541</td>\n",
       "      <td>0.855172</td>\n",
       "      <td>0.868277</td>\n",
       "    </tr>\n",
       "  </tbody>\n",
       "</table>\n",
       "</div>"
      ],
      "text/plain": [
       "                 cell_type                                             tissue  \\\n",
       "agg_0  Amygdala excitatory                                  Amygdala_Amygdala   \n",
       "agg_1  Amygdala excitatory  Amygdala_Basolateral nuclear group (BLN) - lat...   \n",
       "agg_2  Amygdala excitatory  Amygdala_Bed nucleus of stria terminalis and n...   \n",
       "agg_3  Amygdala excitatory               Amygdala_Central nuclear group - CEN   \n",
       "agg_4  Amygdala excitatory  Amygdala_Corticomedial nuclear group (CMN) - a...   \n",
       "\n",
       "      organ  disease           study      dataset    region  \\\n",
       "agg_0   CNS  healthy  jhpce#tran2021  brain_atlas  Amygdala   \n",
       "agg_1   CNS  healthy      SCR_016152  brain_atlas  Amygdala   \n",
       "agg_2   CNS  healthy      SCR_016152  brain_atlas  Amygdala   \n",
       "agg_3   CNS  healthy      SCR_016152  brain_atlas  Amygdala   \n",
       "agg_4   CNS  healthy      SCR_016152  brain_atlas  Amygdala   \n",
       "\n",
       "                                               subregion celltype_coarse  \\\n",
       "agg_0                                           Amygdala             NaN   \n",
       "agg_1  Basolateral nuclear group (BLN) - lateral nucl...             NaN   \n",
       "agg_2  Bed nucleus of stria terminalis and nearby - BNST             NaN   \n",
       "agg_3                        Central nuclear group - CEN             NaN   \n",
       "agg_4  Corticomedial nuclear group (CMN) - anterior c...             NaN   \n",
       "\n",
       "       n_cells  total_counts  n_genes   size_factor  train_pearson  \\\n",
       "agg_0      331    15928830.0    17000  41431.465186       0.942474   \n",
       "agg_1    11369   295213300.0    18080  40765.341481       0.943247   \n",
       "agg_2      139     2593231.0    15418  42556.387020       0.952271   \n",
       "agg_3     3892    99463712.0    17959  42884.641430       0.959857   \n",
       "agg_4     2945   128161939.0    17885  41816.741933       0.951541   \n",
       "\n",
       "       val_pearson  test_pearson  \n",
       "agg_0     0.841879      0.865579  \n",
       "agg_1     0.839565      0.860787  \n",
       "agg_2     0.855175      0.866643  \n",
       "agg_3     0.863817      0.881534  \n",
       "agg_4     0.855172      0.868277  "
      ]
     },
     "execution_count": 5,
     "metadata": {},
     "output_type": "execute_result"
    }
   ],
   "source": [
    "ad.obs.head()"
   ]
  },
  {
   "cell_type": "code",
   "execution_count": 6,
   "id": "8f46fee8-b542-4847-a389-6c1dba41956e",
   "metadata": {},
   "outputs": [
    {
     "data": {
      "text/html": [
       "<div>\n",
       "<style scoped>\n",
       "    .dataframe tbody tr th:only-of-type {\n",
       "        vertical-align: middle;\n",
       "    }\n",
       "\n",
       "    .dataframe tbody tr th {\n",
       "        vertical-align: top;\n",
       "    }\n",
       "\n",
       "    .dataframe thead th {\n",
       "        text-align: right;\n",
       "    }\n",
       "</style>\n",
       "<table border=\"1\" class=\"dataframe\">\n",
       "  <thead>\n",
       "    <tr style=\"text-align: right;\">\n",
       "      <th></th>\n",
       "      <th>chrom</th>\n",
       "      <th>start</th>\n",
       "      <th>end</th>\n",
       "      <th>strand</th>\n",
       "      <th>gene_type</th>\n",
       "      <th>frac_nan</th>\n",
       "      <th>mean_counts</th>\n",
       "      <th>n_tracks</th>\n",
       "      <th>gene_start</th>\n",
       "      <th>gene_end</th>\n",
       "      <th>gene_length</th>\n",
       "      <th>gene_mask_start</th>\n",
       "      <th>gene_mask_end</th>\n",
       "      <th>frac_N</th>\n",
       "      <th>fold</th>\n",
       "      <th>dataset</th>\n",
       "      <th>gene_id</th>\n",
       "      <th>pearson</th>\n",
       "      <th>size_factor_pearson</th>\n",
       "    </tr>\n",
       "  </thead>\n",
       "  <tbody>\n",
       "    <tr>\n",
       "      <th>STRADA</th>\n",
       "      <td>chr17</td>\n",
       "      <td>63381538</td>\n",
       "      <td>63905826</td>\n",
       "      <td>-</td>\n",
       "      <td>protein_coding</td>\n",
       "      <td>0.000000</td>\n",
       "      <td>2.208074</td>\n",
       "      <td>7616</td>\n",
       "      <td>63682336</td>\n",
       "      <td>63741986</td>\n",
       "      <td>59650</td>\n",
       "      <td>163840</td>\n",
       "      <td>223490</td>\n",
       "      <td>0.0</td>\n",
       "      <td>['fold1']</td>\n",
       "      <td>train</td>\n",
       "      <td>ENSG00000266173</td>\n",
       "      <td>0.492455</td>\n",
       "      <td>0.476627</td>\n",
       "    </tr>\n",
       "    <tr>\n",
       "      <th>ETV4</th>\n",
       "      <td>chr17</td>\n",
       "      <td>43219172</td>\n",
       "      <td>43743460</td>\n",
       "      <td>-</td>\n",
       "      <td>protein_coding</td>\n",
       "      <td>0.030873</td>\n",
       "      <td>0.925863</td>\n",
       "      <td>5004</td>\n",
       "      <td>43527844</td>\n",
       "      <td>43579620</td>\n",
       "      <td>51776</td>\n",
       "      <td>163840</td>\n",
       "      <td>215616</td>\n",
       "      <td>0.0</td>\n",
       "      <td>['fold1']</td>\n",
       "      <td>train</td>\n",
       "      <td>ENSG00000175832</td>\n",
       "      <td>0.737548</td>\n",
       "      <td>0.613281</td>\n",
       "    </tr>\n",
       "    <tr>\n",
       "      <th>USP25</th>\n",
       "      <td>chr21</td>\n",
       "      <td>15566185</td>\n",
       "      <td>16090473</td>\n",
       "      <td>+</td>\n",
       "      <td>protein_coding</td>\n",
       "      <td>0.000000</td>\n",
       "      <td>3.650355</td>\n",
       "      <td>8604</td>\n",
       "      <td>15730025</td>\n",
       "      <td>15880069</td>\n",
       "      <td>150044</td>\n",
       "      <td>163840</td>\n",
       "      <td>313884</td>\n",
       "      <td>0.0</td>\n",
       "      <td>['fold6']</td>\n",
       "      <td>train</td>\n",
       "      <td>ENSG00000155313</td>\n",
       "      <td>0.905298</td>\n",
       "      <td>0.784446</td>\n",
       "    </tr>\n",
       "    <tr>\n",
       "      <th>ZSWIM5</th>\n",
       "      <td>chr1</td>\n",
       "      <td>44945761</td>\n",
       "      <td>45470049</td>\n",
       "      <td>-</td>\n",
       "      <td>protein_coding</td>\n",
       "      <td>0.000620</td>\n",
       "      <td>2.190115</td>\n",
       "      <td>6123</td>\n",
       "      <td>45016399</td>\n",
       "      <td>45306209</td>\n",
       "      <td>289810</td>\n",
       "      <td>163840</td>\n",
       "      <td>453650</td>\n",
       "      <td>0.0</td>\n",
       "      <td>['fold5']</td>\n",
       "      <td>train</td>\n",
       "      <td>ENSG00000162415</td>\n",
       "      <td>0.961775</td>\n",
       "      <td>0.795131</td>\n",
       "    </tr>\n",
       "    <tr>\n",
       "      <th>C21orf58</th>\n",
       "      <td>chr21</td>\n",
       "      <td>45963427</td>\n",
       "      <td>46487715</td>\n",
       "      <td>-</td>\n",
       "      <td>protein_coding</td>\n",
       "      <td>0.000791</td>\n",
       "      <td>1.650467</td>\n",
       "      <td>7354</td>\n",
       "      <td>46300181</td>\n",
       "      <td>46323875</td>\n",
       "      <td>23694</td>\n",
       "      <td>163840</td>\n",
       "      <td>187534</td>\n",
       "      <td>0.0</td>\n",
       "      <td>['fold6']</td>\n",
       "      <td>train</td>\n",
       "      <td>ENSG00000160298</td>\n",
       "      <td>0.645260</td>\n",
       "      <td>0.412368</td>\n",
       "    </tr>\n",
       "  </tbody>\n",
       "</table>\n",
       "</div>"
      ],
      "text/plain": [
       "          chrom     start       end strand       gene_type  frac_nan  \\\n",
       "STRADA    chr17  63381538  63905826      -  protein_coding  0.000000   \n",
       "ETV4      chr17  43219172  43743460      -  protein_coding  0.030873   \n",
       "USP25     chr21  15566185  16090473      +  protein_coding  0.000000   \n",
       "ZSWIM5     chr1  44945761  45470049      -  protein_coding  0.000620   \n",
       "C21orf58  chr21  45963427  46487715      -  protein_coding  0.000791   \n",
       "\n",
       "          mean_counts  n_tracks  gene_start  gene_end  gene_length  \\\n",
       "STRADA       2.208074      7616    63682336  63741986        59650   \n",
       "ETV4         0.925863      5004    43527844  43579620        51776   \n",
       "USP25        3.650355      8604    15730025  15880069       150044   \n",
       "ZSWIM5       2.190115      6123    45016399  45306209       289810   \n",
       "C21orf58     1.650467      7354    46300181  46323875        23694   \n",
       "\n",
       "          gene_mask_start  gene_mask_end  frac_N       fold dataset  \\\n",
       "STRADA             163840         223490     0.0  ['fold1']   train   \n",
       "ETV4               163840         215616     0.0  ['fold1']   train   \n",
       "USP25              163840         313884     0.0  ['fold6']   train   \n",
       "ZSWIM5             163840         453650     0.0  ['fold5']   train   \n",
       "C21orf58           163840         187534     0.0  ['fold6']   train   \n",
       "\n",
       "                  gene_id   pearson  size_factor_pearson  \n",
       "STRADA    ENSG00000266173  0.492455             0.476627  \n",
       "ETV4      ENSG00000175832  0.737548             0.613281  \n",
       "USP25     ENSG00000155313  0.905298             0.784446  \n",
       "ZSWIM5    ENSG00000162415  0.961775             0.795131  \n",
       "C21orf58  ENSG00000160298  0.645260             0.412368  "
      ]
     },
     "execution_count": 6,
     "metadata": {},
     "output_type": "execute_result"
    }
   ],
   "source": [
    "ad.var.head()"
   ]
  },
  {
   "cell_type": "code",
   "execution_count": 7,
   "id": "6e40faa9-79ea-4358-81fa-471dd570aabb",
   "metadata": {},
   "outputs": [
    {
     "data": {
      "text/plain": [
       "array([[3.0019245, 1.7627305, 4.5927725, 5.0999455, 1.7748047],\n",
       "       [3.0033526, 1.7826542, 4.7232265, 5.5104795, 1.6668196],\n",
       "       [2.9788709, 2.0896676, 4.8655367, 5.617505 , 1.7732594],\n",
       "       [3.074754 , 2.0385346, 4.884157 , 5.273578 , 1.7600096],\n",
       "       [3.1038399, 1.9592154, 4.5908647, 5.2569623, 1.7552438]],\n",
       "      dtype=float32)"
      ]
     },
     "execution_count": 7,
     "metadata": {},
     "output_type": "execute_result"
    }
   ],
   "source": [
    "ad.layers['preds'][:5, :5]"
   ]
  },
  {
   "cell_type": "markdown",
   "id": "98788b7b-dfee-403c-a844-92a43a6d0a4d",
   "metadata": {},
   "source": [
    "To find predictions for a specific gene (SPI1):"
   ]
  },
  {
   "cell_type": "code",
   "execution_count": 8,
   "id": "c31e5faf-5f44-46d6-b6cc-7a768e066976",
   "metadata": {
    "scrolled": true
   },
   "outputs": [
    {
     "data": {
      "text/html": [
       "<div>\n",
       "<style scoped>\n",
       "    .dataframe tbody tr th:only-of-type {\n",
       "        vertical-align: middle;\n",
       "    }\n",
       "\n",
       "    .dataframe tbody tr th {\n",
       "        vertical-align: top;\n",
       "    }\n",
       "\n",
       "    .dataframe thead th {\n",
       "        text-align: right;\n",
       "    }\n",
       "</style>\n",
       "<table border=\"1\" class=\"dataframe\">\n",
       "  <thead>\n",
       "    <tr style=\"text-align: right;\">\n",
       "      <th></th>\n",
       "      <th>chrom</th>\n",
       "      <th>start</th>\n",
       "      <th>end</th>\n",
       "      <th>strand</th>\n",
       "      <th>gene_type</th>\n",
       "      <th>frac_nan</th>\n",
       "      <th>mean_counts</th>\n",
       "      <th>n_tracks</th>\n",
       "      <th>gene_start</th>\n",
       "      <th>gene_end</th>\n",
       "      <th>gene_length</th>\n",
       "      <th>gene_mask_start</th>\n",
       "      <th>gene_mask_end</th>\n",
       "      <th>frac_N</th>\n",
       "      <th>fold</th>\n",
       "      <th>dataset</th>\n",
       "      <th>gene_id</th>\n",
       "      <th>pearson</th>\n",
       "      <th>size_factor_pearson</th>\n",
       "    </tr>\n",
       "  </thead>\n",
       "  <tbody>\n",
       "    <tr>\n",
       "      <th>SPI1</th>\n",
       "      <td>chr11</td>\n",
       "      <td>47018128</td>\n",
       "      <td>47542416</td>\n",
       "      <td>-</td>\n",
       "      <td>protein_coding</td>\n",
       "      <td>0.000128</td>\n",
       "      <td>2.187062</td>\n",
       "      <td>7290</td>\n",
       "      <td>47354860</td>\n",
       "      <td>47378576</td>\n",
       "      <td>23716</td>\n",
       "      <td>163840</td>\n",
       "      <td>187556</td>\n",
       "      <td>0.0</td>\n",
       "      <td>['fold3']</td>\n",
       "      <td>test</td>\n",
       "      <td>ENSG00000066336</td>\n",
       "      <td>0.846099</td>\n",
       "      <td>-0.15956</td>\n",
       "    </tr>\n",
       "  </tbody>\n",
       "</table>\n",
       "</div>"
      ],
      "text/plain": [
       "      chrom     start       end strand       gene_type  frac_nan  mean_counts  \\\n",
       "SPI1  chr11  47018128  47542416      -  protein_coding  0.000128     2.187062   \n",
       "\n",
       "      n_tracks  gene_start  gene_end  gene_length  gene_mask_start  \\\n",
       "SPI1      7290    47354860  47378576        23716           163840   \n",
       "\n",
       "      gene_mask_end  frac_N       fold dataset          gene_id   pearson  \\\n",
       "SPI1         187556     0.0  ['fold3']    test  ENSG00000066336  0.846099   \n",
       "\n",
       "      size_factor_pearson  \n",
       "SPI1             -0.15956  "
      ]
     },
     "execution_count": 8,
     "metadata": {},
     "output_type": "execute_result"
    }
   ],
   "source": [
    "ad.var.loc[['SPI1']]"
   ]
  },
  {
   "cell_type": "code",
   "execution_count": 9,
   "id": "5cbb1d37-94d9-4350-bd5e-e636ae27aba6",
   "metadata": {},
   "outputs": [
    {
     "data": {
      "text/plain": [
       "array([0.2351853 , 0.20646904, 0.15287355, ..., 0.33639783, 0.1378721 ,\n",
       "       0.20061433], dtype=float32)"
      ]
     },
     "execution_count": 9,
     "metadata": {},
     "output_type": "execute_result"
    }
   ],
   "source": [
    "np.array(ad[:, 'SPI1'].layers['preds']).squeeze()"
   ]
  },
  {
   "cell_type": "markdown",
   "id": "e3e1531b-f2d1-476d-b264-8122998f17f3",
   "metadata": {},
   "source": [
    "You can analyze the model's predictions and performance based on the anndata object. The sections below show how to load the Decima model and perform inference to generate your own predictions."
   ]
  },
  {
   "cell_type": "markdown",
   "id": "a1bd8310-99e2-4b8b-8baa-1a0e7a4aced2",
   "metadata": {},
   "source": [
    "## How to load the model checkpoint"
   ]
  },
  {
   "cell_type": "code",
   "execution_count": 10,
   "id": "50b3762b-0eec-489e-9e9f-5ee8b9c864f0",
   "metadata": {},
   "outputs": [
    {
     "name": "stderr",
     "output_type": "stream",
     "text": [
      "/opt/conda/lib/python3.11/site-packages/tqdm/auto.py:21: TqdmWarning: IProgress not found. Please update jupyter and ipywidgets. See https://ipywidgets.readthedocs.io/en/stable/user_install.html\n",
      "  from .autonotebook import tqdm as notebook_tqdm\n",
      "/opt/conda/lib/python3.11/site-packages/lightning_fabric/utilities/cloud_io.py:57: You are using `torch.load` with `weights_only=False` (the current default value), which uses the default pickle module implicitly. It is possible to construct malicious pickle data which will execute arbitrary code during unpickling (See https://github.com/pytorch/pytorch/blob/main/SECURITY.md#untrusted-models for more details). In a future release, the default value for `weights_only` will be flipped to `True`. This limits the functions that could be executed during unpickling. Arbitrary objects will no longer be allowed to be loaded via this mode unless they are explicitly allowlisted by the user via `torch.serialization.add_safe_globals`. We recommend you start setting `weights_only=True` for any use case where you don't have full control of the loaded file. Please open an issue on GitHub for any issues related to this experimental feature.\n",
      "/opt/conda/lib/python3.11/site-packages/pytorch_lightning/utilities/migration/utils.py:56: The loaded checkpoint was produced with Lightning v2.4.0, which is newer than your current Lightning version: v2.3.3\n",
      "\u001b[34m\u001b[1mwandb\u001b[0m: Using wandb-core as the SDK backend.  Please refer to https://wandb.me/wandb-core for more information.\n",
      "\u001b[34m\u001b[1mwandb\u001b[0m: Currently logged in as: \u001b[33manony-moose-555328406855065610\u001b[0m to \u001b[32mhttps://api.wandb.ai\u001b[0m. Use \u001b[1m`wandb login --relogin`\u001b[0m to force relogin\n",
      "\u001b[34m\u001b[1mwandb\u001b[0m: Downloading large artifact human_state_dict_fold0:latest, 709.30MB. 1 files... \n",
      "\u001b[34m\u001b[1mwandb\u001b[0m:   1 of 1 files downloaded.  \n",
      "Done. 0:0:0.6\n",
      "/code/github/decima/tutorials/../src/decima/decima_model.py:41: FutureWarning: You are using `torch.load` with `weights_only=False` (the current default value), which uses the default pickle module implicitly. It is possible to construct malicious pickle data which will execute arbitrary code during unpickling (See https://github.com/pytorch/pytorch/blob/main/SECURITY.md#untrusted-models for more details). In a future release, the default value for `weights_only` will be flipped to `True`. This limits the functions that could be executed during unpickling. Arbitrary objects will no longer be allowed to be loaded via this mode unless they are explicitly allowlisted by the user via `torch.serialization.add_safe_globals`. We recommend you start setting `weights_only=True` for any use case where you don't have full control of the loaded file. Please open an issue on GitHub for any issues related to this experimental feature.\n",
      "  state_dict = torch.load(Path(d) / f\"fold{replicate}.h5\")\n"
     ]
    }
   ],
   "source": [
    "from decima.lightning import LightningModel\n",
    "model = LightningModel.load_from_checkpoint(model_file)\n",
    "model = model.eval()"
   ]
  },
  {
   "cell_type": "markdown",
   "id": "7c906c96-4bf6-4af2-9d44-5ea64fe33c26",
   "metadata": {},
   "source": [
    "## How to create sequence input for Decima given a gene of interest"
   ]
  },
  {
   "cell_type": "markdown",
   "id": "d32d1bfa-d510-4396-94bd-327fb6e68675",
   "metadata": {},
   "source": [
    "Let's take another look at the featurization of the `SPI1` gene in Decima. There are 6 relevant columns:"
   ]
  },
  {
   "cell_type": "code",
   "execution_count": 20,
   "id": "3680fc6f-0a24-46a6-aa0b-1cedb1786270",
   "metadata": {},
   "outputs": [
    {
     "data": {
      "text/html": [
       "<div>\n",
       "<style scoped>\n",
       "    .dataframe tbody tr th:only-of-type {\n",
       "        vertical-align: middle;\n",
       "    }\n",
       "\n",
       "    .dataframe tbody tr th {\n",
       "        vertical-align: top;\n",
       "    }\n",
       "\n",
       "    .dataframe thead th {\n",
       "        text-align: right;\n",
       "    }\n",
       "</style>\n",
       "<table border=\"1\" class=\"dataframe\">\n",
       "  <thead>\n",
       "    <tr style=\"text-align: right;\">\n",
       "      <th></th>\n",
       "      <th>chrom</th>\n",
       "      <th>start</th>\n",
       "      <th>end</th>\n",
       "      <th>strand</th>\n",
       "      <th>gene_mask_start</th>\n",
       "      <th>gene_mask_end</th>\n",
       "    </tr>\n",
       "  </thead>\n",
       "  <tbody>\n",
       "    <tr>\n",
       "      <th>SPI1</th>\n",
       "      <td>chr11</td>\n",
       "      <td>47018128</td>\n",
       "      <td>47542416</td>\n",
       "      <td>-</td>\n",
       "      <td>163840</td>\n",
       "      <td>187556</td>\n",
       "    </tr>\n",
       "  </tbody>\n",
       "</table>\n",
       "</div>"
      ],
      "text/plain": [
       "      chrom     start       end strand  gene_mask_start  gene_mask_end\n",
       "SPI1  chr11  47018128  47542416      -           163840         187556"
      ]
     },
     "execution_count": 20,
     "metadata": {},
     "output_type": "execute_result"
    }
   ],
   "source": [
    "ad.var.loc[['SPI1'], ['chrom', 'start', 'end', 'strand', 'gene_mask_start', 'gene_mask_end']]"
   ]
  },
  {
   "cell_type": "markdown",
   "id": "9200d3d0-5233-458a-b8ba-b8e390e1d663",
   "metadata": {},
   "source": [
    "Thus, in order to predict expression for `SPI1`, Decima needs as input the sequence from 47018128-47542416 on chr11. This is a sequence of length 524288. Since the strand is `-`, the sequence must be reverse complemented. Finally, Decima needs a gene mask which indicates the boundaries of the gene. It is 0 for positions outside the gene and 1 for positions inside. `gene_mask_start` and `gene_mask_end` contain the positions of the gene boundaries on the input.\n",
    "\n",
    "Here is how we create the sequence and the mask:"
   ]
  },
  {
   "cell_type": "code",
   "execution_count": 11,
   "id": "33a86891-138b-4a53-a8eb-4a32793d650f",
   "metadata": {},
   "outputs": [],
   "source": [
    "from decima.preprocess import make_inputs"
   ]
  },
  {
   "cell_type": "code",
   "execution_count": 15,
   "id": "741ca044-7c5f-46ba-a009-931be3962793",
   "metadata": {},
   "outputs": [
    {
     "name": "stdout",
     "output_type": "stream",
     "text": [
      "One-hot encoding sequence\n",
      "Making gene mask\n"
     ]
    }
   ],
   "source": [
    "spi1_seq, spi1_mask = make_inputs('SPI1', ad)"
   ]
  },
  {
   "cell_type": "code",
   "execution_count": 16,
   "id": "bda8a7f4-f04e-4fe4-a2d6-9d97034f92f9",
   "metadata": {},
   "outputs": [
    {
     "data": {
      "text/plain": [
       "(torch.Size([4, 524288]), torch.Size([1, 524288]))"
      ]
     },
     "execution_count": 16,
     "metadata": {},
     "output_type": "execute_result"
    }
   ],
   "source": [
    "spi1_seq.shape, spi1_mask.shape"
   ]
  },
  {
   "cell_type": "markdown",
   "id": "24237597-ed47-4dfd-9582-7ec4757b02d1",
   "metadata": {},
   "source": [
    "We can combine these two into a single tensor to form the model's input:"
   ]
  },
  {
   "cell_type": "code",
   "execution_count": 17,
   "id": "7c251672-ddef-4df0-ae0d-19d8182150b8",
   "metadata": {},
   "outputs": [
    {
     "data": {
      "text/plain": [
       "torch.Size([5, 524288])"
      ]
     },
     "execution_count": 17,
     "metadata": {},
     "output_type": "execute_result"
    }
   ],
   "source": [
    "spi1_input = torch.vstack([spi1_seq, spi1_mask])\n",
    "spi1_input.shape"
   ]
  },
  {
   "cell_type": "code",
   "execution_count": 18,
   "id": "d10ab2e4-7b9f-4efa-abaa-f53be0e508f0",
   "metadata": {},
   "outputs": [
    {
     "data": {
      "text/plain": [
       "tensor([[0., 0., 0., 0., 1., 0., 0., 0., 0., 0.],\n",
       "        [0., 0., 1., 1., 0., 1., 0., 0., 0., 0.],\n",
       "        [0., 1., 0., 0., 0., 0., 0., 0., 0., 0.],\n",
       "        [1., 0., 0., 0., 0., 0., 1., 1., 1., 1.],\n",
       "        [0., 0., 0., 0., 0., 0., 0., 0., 0., 0.]])"
      ]
     },
     "execution_count": 18,
     "metadata": {},
     "output_type": "execute_result"
    }
   ],
   "source": [
    "spi1_input[:, :10]"
   ]
  },
  {
   "cell_type": "markdown",
   "id": "e7ad6aed-c532-44fa-b8d9-408216f6d966",
   "metadata": {},
   "source": [
    "## How to make predictions"
   ]
  },
  {
   "cell_type": "code",
   "execution_count": 22,
   "id": "7f10af41-82d5-46a0-bf22-afa8ba857e83",
   "metadata": {},
   "outputs": [],
   "source": [
    "preds = model(spi1_input.to(model.device))"
   ]
  },
  {
   "cell_type": "code",
   "execution_count": 23,
   "id": "64a6757b-4f49-45a9-8604-06be5ccbbea4",
   "metadata": {},
   "outputs": [
    {
     "data": {
      "text/plain": [
       "torch.Size([1, 8856, 1])"
      ]
     },
     "execution_count": 23,
     "metadata": {},
     "output_type": "execute_result"
    }
   ],
   "source": [
    "preds.shape"
   ]
  },
  {
   "cell_type": "markdown",
   "id": "42ea3cb9-a0b6-4d11-9074-5ddd1061ac1c",
   "metadata": {},
   "source": [
    "This returns a vector of 8,856 values corresponding to the tasks in `ad.obs`."
   ]
  },
  {
   "cell_type": "markdown",
   "id": "73b20124-c16b-4524-8074-851cb53c3b87",
   "metadata": {},
   "source": [
    "## How to interpret the model's predictions"
   ]
  },
  {
   "cell_type": "markdown",
   "id": "39cb5bdb-7688-4bca-b964-94afb030dc83",
   "metadata": {},
   "source": [
    "To interpret the model's predictions with respect to cell type specificity, we define a set of 'on_tasks' and 'off_tasks' (background tasks)."
   ]
  },
  {
   "cell_type": "code",
   "execution_count": 24,
   "id": "08d727b8-706d-47b7-af3d-7cf1ec4bcc4f",
   "metadata": {},
   "outputs": [],
   "source": [
    "spi1_cell_types = ['classical monocyte', 'intermediate monocyte', 'non-classical monocyte', \n",
    "                 'alveolar macrophage', 'macrophage']"
   ]
  },
  {
   "cell_type": "code",
   "execution_count": 25,
   "id": "15090f59-6809-4a03-a11d-b6e1b218c210",
   "metadata": {},
   "outputs": [
    {
     "data": {
      "text/plain": [
       "(640, 750)"
      ]
     },
     "execution_count": 25,
     "metadata": {},
     "output_type": "execute_result"
    }
   ],
   "source": [
    "on_tasks = ad.obs.index[ad.obs.cell_type.isin(spi1_cell_types)].tolist()\n",
    "off_tasks = ad.obs.index[(~ad.obs.cell_type.isin(spi1_cell_types)) & (ad.obs.organ==\"blood\")].tolist()\n",
    "\n",
    "len(on_tasks), len(off_tasks)"
   ]
  },
  {
   "cell_type": "code",
   "execution_count": 26,
   "id": "b6119ced-8bc8-45b6-9ace-2e1e6105eb4b",
   "metadata": {},
   "outputs": [
    {
     "name": "stderr",
     "output_type": "stream",
     "text": [
      "/opt/conda/lib/python3.11/site-packages/captum/_utils/gradient.py:57: UserWarning: Input Tensor 0 did not already require gradients, required_grads has been set automatically.\n",
      "  warnings.warn(\n"
     ]
    }
   ],
   "source": [
    "from decima.interpret import attributions, find_attr_peaks, scan_attributions\n",
    "\n",
    "attr, tss_pos =  attributions(\n",
    "    gene=\"SPI1\", inputs=spi1_input, model=model, device=0, \n",
    "    tasks=on_tasks,\n",
    "    off_tasks=off_tasks,\n",
    "    transform=\"specificity\")"
   ]
  },
  {
   "cell_type": "markdown",
   "id": "f512b548-684b-4412-91af-79543bbc6a8e",
   "metadata": {},
   "source": [
    "Note that if we only want to interpret the model's predictions for some set of tasks without caring about specificity, we should use `transform=\"aggregate\" and not define `off_tasks`."
   ]
  },
  {
   "cell_type": "code",
   "execution_count": 27,
   "id": "f821826c-2fd8-4679-8c70-6c2a87f8e20d",
   "metadata": {},
   "outputs": [
    {
     "data": {
      "text/plain": [
       "(4, 524288)"
      ]
     },
     "execution_count": 27,
     "metadata": {},
     "output_type": "execute_result"
    }
   ],
   "source": [
    "attr.shape"
   ]
  },
  {
   "cell_type": "markdown",
   "id": "5acb1dde-b0f3-4950-8ca4-aa641c74b129",
   "metadata": {},
   "source": [
    "In addition to the attributions, this function also returns the position of the TSS on the input. This is normally 163840 but this is not the case for all genes."
   ]
  },
  {
   "cell_type": "code",
   "execution_count": 28,
   "id": "9b7ef36e-897b-4cec-b276-b7860c8d6e9e",
   "metadata": {},
   "outputs": [
    {
     "data": {
      "text/plain": [
       "163840"
      ]
     },
     "execution_count": 28,
     "metadata": {},
     "output_type": "execute_result"
    }
   ],
   "source": [
    "tss_pos"
   ]
  },
  {
   "cell_type": "markdown",
   "id": "69917015-a3e7-4222-bb3e-ed3b7f5f8ea8",
   "metadata": {},
   "source": [
    "First, we can visualize the importance across the entire 500 kb interval:"
   ]
  },
  {
   "cell_type": "code",
   "execution_count": 29,
   "id": "a186b895-3016-4036-93dd-0ec2fb884a35",
   "metadata": {},
   "outputs": [],
   "source": [
    "from decima.visualize import plot_attribution_peaks"
   ]
  },
  {
   "cell_type": "code",
   "execution_count": 30,
   "id": "98f5658c-beff-4c49-8e07-780c73c0ef54",
   "metadata": {},
   "outputs": [
    {
     "data": {
      "image/png": "[encoded data removed]"
     },
     "metadata": {
      "image/png": {
       "height": 200,
       "width": 600
      }
     },
     "output_type": "display_data"
    }
   ],
   "source": [
    "plot_attribution_peaks(attr, tss_pos)"
   ]
  },
  {
   "cell_type": "markdown",
   "id": "876c9880-a451-44cc-a720-a89faf835bda",
   "metadata": {},
   "source": [
    "We can also identify the peaks or regions of high importance:"
   ]
  },
  {
   "cell_type": "code",
   "execution_count": 31,
   "id": "8707e643-043d-427f-a7ed-724e7e82c274",
   "metadata": {},
   "outputs": [
    {
     "data": {
      "text/html": [
       "<div>\n",
       "<style scoped>\n",
       "    .dataframe tbody tr th:only-of-type {\n",
       "        vertical-align: middle;\n",
       "    }\n",
       "\n",
       "    .dataframe tbody tr th {\n",
       "        vertical-align: top;\n",
       "    }\n",
       "\n",
       "    .dataframe thead th {\n",
       "        text-align: right;\n",
       "    }\n",
       "</style>\n",
       "<table border=\"1\" class=\"dataframe\">\n",
       "  <thead>\n",
       "    <tr style=\"text-align: right;\">\n",
       "      <th></th>\n",
       "      <th>peak</th>\n",
       "      <th>height</th>\n",
       "      <th>from_tss</th>\n",
       "    </tr>\n",
       "  </thead>\n",
       "  <tbody>\n",
       "    <tr>\n",
       "      <th>0</th>\n",
       "      <td>163795</td>\n",
       "      <td>1.823763</td>\n",
       "      <td>-45</td>\n",
       "    </tr>\n",
       "    <tr>\n",
       "      <th>1</th>\n",
       "      <td>163878</td>\n",
       "      <td>1.186533</td>\n",
       "      <td>38</td>\n",
       "    </tr>\n",
       "    <tr>\n",
       "      <th>2</th>\n",
       "      <td>163771</td>\n",
       "      <td>0.965062</td>\n",
       "      <td>-69</td>\n",
       "    </tr>\n",
       "    <tr>\n",
       "      <th>3</th>\n",
       "      <td>163785</td>\n",
       "      <td>0.885444</td>\n",
       "      <td>-55</td>\n",
       "    </tr>\n",
       "    <tr>\n",
       "      <th>4</th>\n",
       "      <td>163810</td>\n",
       "      <td>0.800556</td>\n",
       "      <td>-30</td>\n",
       "    </tr>\n",
       "    <tr>\n",
       "      <th>5</th>\n",
       "      <td>163886</td>\n",
       "      <td>0.722986</td>\n",
       "      <td>46</td>\n",
       "    </tr>\n",
       "    <tr>\n",
       "      <th>6</th>\n",
       "      <td>163870</td>\n",
       "      <td>0.691064</td>\n",
       "      <td>30</td>\n",
       "    </tr>\n",
       "    <tr>\n",
       "      <th>7</th>\n",
       "      <td>163898</td>\n",
       "      <td>0.611057</td>\n",
       "      <td>58</td>\n",
       "    </tr>\n",
       "    <tr>\n",
       "      <th>8</th>\n",
       "      <td>163849</td>\n",
       "      <td>0.599899</td>\n",
       "      <td>9</td>\n",
       "    </tr>\n",
       "    <tr>\n",
       "      <th>9</th>\n",
       "      <td>164109</td>\n",
       "      <td>0.594444</td>\n",
       "      <td>269</td>\n",
       "    </tr>\n",
       "  </tbody>\n",
       "</table>\n",
       "</div>"
      ],
      "text/plain": [
       "     peak    height  from_tss\n",
       "0  163795  1.823763       -45\n",
       "1  163878  1.186533        38\n",
       "2  163771  0.965062       -69\n",
       "3  163785  0.885444       -55\n",
       "4  163810  0.800556       -30\n",
       "5  163886  0.722986        46\n",
       "6  163870  0.691064        30\n",
       "7  163898  0.611057        58\n",
       "8  163849  0.599899         9\n",
       "9  164109  0.594444       269"
      ]
     },
     "execution_count": 31,
     "metadata": {},
     "output_type": "execute_result"
    }
   ],
   "source": [
    "peaks = find_attr_peaks(attr, tss_pos=tss_pos, n=10, min_dist=6)\n",
    "peaks"
   ]
  },
  {
   "cell_type": "markdown",
   "id": "b4e840cb-434b-4fde-9a60-6412b8e2cd5f",
   "metadata": {},
   "source": [
    "We will visualize the attributions close to the TSS (which contains the top two peaks:"
   ]
  },
  {
   "cell_type": "code",
   "execution_count": 32,
   "id": "31564c4a-b82f-417c-aeab-baa826d080f0",
   "metadata": {},
   "outputs": [
    {
     "data": {
      "text/plain": [
       "<logomaker.src.Logo.Logo at 0x7fb22e43aa50>"
      ]
     },
     "execution_count": 32,
     "metadata": {},
     "output_type": "execute_result"
    },
    {
     "data": {
      "image/png": "[encoded data removed]",
      "text/plain": [
       "<Figure size 1000x200 with 1 Axes>"
      ]
     },
     "metadata": {},
     "output_type": "display_data"
    }
   ],
   "source": [
    "from grelu.visualize import plot_attributions\n",
    "plot_attributions(attr[:, tss_pos-50:tss_pos+50], figsize=(10, 2))"
   ]
  },
  {
   "cell_type": "markdown",
   "id": "0c730834-b243-43aa-a291-d429583ade17",
   "metadata": {},
   "source": [
    "We can also match these top 2 peaks to motifs:"
   ]
  },
  {
   "cell_type": "code",
   "execution_count": 33,
   "id": "0bcaa3b8-e93b-44b7-b19d-7175d6cd2514",
   "metadata": {},
   "outputs": [
    {
     "name": "stderr",
     "output_type": "stream",
     "text": [
      "/opt/conda/lib/python3.11/site-packages/tangermeme/tools/fimo.py:391: FutureWarning: The behavior of DataFrame concatenation with empty or all-NA entries is deprecated. In a future version, this will no longer exclude empty or all-NA columns when determining the result dtypes. To retain the old behavior, exclude the relevant entries before the concat operation.\n",
      "/opt/conda/lib/python3.11/site-packages/tangermeme/tools/fimo.py:391: FutureWarning: The behavior of DataFrame concatenation with empty or all-NA entries is deprecated. In a future version, this will no longer exclude empty or all-NA columns when determining the result dtypes. To retain the old behavior, exclude the relevant entries before the concat operation.\n"
     ]
    }
   ],
   "source": [
    "results = decima.interpret.scan_attributions(\n",
    "    seq=spi1_seq, attr=attr, motifs='hocomoco_v12', peaks=peaks.iloc[:2], window=18, pthresh=5e-4)"
   ]
  },
  {
   "cell_type": "code",
   "execution_count": 34,
   "id": "96b4773f-59ea-4b7c-880f-4e5b8691949c",
   "metadata": {},
   "outputs": [
    {
     "data": {
      "text/html": [
       "<div>\n",
       "<style scoped>\n",
       "    .dataframe tbody tr th:only-of-type {\n",
       "        vertical-align: middle;\n",
       "    }\n",
       "\n",
       "    .dataframe tbody tr th {\n",
       "        vertical-align: top;\n",
       "    }\n",
       "\n",
       "    .dataframe thead th {\n",
       "        text-align: right;\n",
       "    }\n",
       "</style>\n",
       "<table border=\"1\" class=\"dataframe\">\n",
       "  <thead>\n",
       "    <tr style=\"text-align: right;\">\n",
       "      <th></th>\n",
       "      <th>motif</th>\n",
       "      <th>sequence</th>\n",
       "      <th>seq_idx</th>\n",
       "      <th>start</th>\n",
       "      <th>end</th>\n",
       "      <th>strand</th>\n",
       "      <th>score</th>\n",
       "      <th>p-value</th>\n",
       "      <th>matched_seq</th>\n",
       "      <th>site_attr_score</th>\n",
       "      <th>motif_attr_score</th>\n",
       "      <th>peak</th>\n",
       "      <th>height</th>\n",
       "      <th>from_tss</th>\n",
       "    </tr>\n",
       "  </thead>\n",
       "  <tbody>\n",
       "    <tr>\n",
       "      <th>12</th>\n",
       "      <td>SPIB.H12CORE.1.S.C</td>\n",
       "      <td>1</td>\n",
       "      <td>1</td>\n",
       "      <td>1</td>\n",
       "      <td>14</td>\n",
       "      <td>+</td>\n",
       "      <td>10.095720</td>\n",
       "      <td>0.000022</td>\n",
       "      <td>AAATCAGGAACTT</td>\n",
       "      <td>0.119940</td>\n",
       "      <td>0.396839</td>\n",
       "      <td>163878</td>\n",
       "      <td>1.186533</td>\n",
       "      <td>38</td>\n",
       "    </tr>\n",
       "    <tr>\n",
       "      <th>5</th>\n",
       "      <td>EHF.H12CORE.0.P.B</td>\n",
       "      <td>1</td>\n",
       "      <td>1</td>\n",
       "      <td>1</td>\n",
       "      <td>16</td>\n",
       "      <td>+</td>\n",
       "      <td>9.409240</td>\n",
       "      <td>0.000136</td>\n",
       "      <td>AAATCAGGAACTTGT</td>\n",
       "      <td>0.114074</td>\n",
       "      <td>0.299387</td>\n",
       "      <td>163878</td>\n",
       "      <td>1.186533</td>\n",
       "      <td>38</td>\n",
       "    </tr>\n",
       "    <tr>\n",
       "      <th>11</th>\n",
       "      <td>SPI1.H12CORE.0.P.B</td>\n",
       "      <td>1</td>\n",
       "      <td>1</td>\n",
       "      <td>1</td>\n",
       "      <td>15</td>\n",
       "      <td>+</td>\n",
       "      <td>7.670585</td>\n",
       "      <td>0.000147</td>\n",
       "      <td>AAATCAGGAACTTG</td>\n",
       "      <td>0.116095</td>\n",
       "      <td>0.339366</td>\n",
       "      <td>163878</td>\n",
       "      <td>1.186533</td>\n",
       "      <td>38</td>\n",
       "    </tr>\n",
       "    <tr>\n",
       "      <th>3</th>\n",
       "      <td>CEBPG.H12CORE.1.SM.B</td>\n",
       "      <td>0</td>\n",
       "      <td>0</td>\n",
       "      <td>0</td>\n",
       "      <td>12</td>\n",
       "      <td>-</td>\n",
       "      <td>7.931759</td>\n",
       "      <td>0.000198</td>\n",
       "      <td>TGTAGCGCAAGA</td>\n",
       "      <td>0.165716</td>\n",
       "      <td>0.589583</td>\n",
       "      <td>163795</td>\n",
       "      <td>1.823763</td>\n",
       "      <td>-45</td>\n",
       "    </tr>\n",
       "    <tr>\n",
       "      <th>4</th>\n",
       "      <td>KAISO.H12CORE.0.P.B</td>\n",
       "      <td>0</td>\n",
       "      <td>0</td>\n",
       "      <td>2</td>\n",
       "      <td>13</td>\n",
       "      <td>+</td>\n",
       "      <td>8.282666</td>\n",
       "      <td>0.000324</td>\n",
       "      <td>TAGCGCAAGAG</td>\n",
       "      <td>0.162170</td>\n",
       "      <td>0.444266</td>\n",
       "      <td>163795</td>\n",
       "      <td>1.823763</td>\n",
       "      <td>-45</td>\n",
       "    </tr>\n",
       "    <tr>\n",
       "      <th>0</th>\n",
       "      <td>CEBPA.H12CORE.0.P.B</td>\n",
       "      <td>0</td>\n",
       "      <td>0</td>\n",
       "      <td>0</td>\n",
       "      <td>12</td>\n",
       "      <td>+</td>\n",
       "      <td>7.964049</td>\n",
       "      <td>0.000345</td>\n",
       "      <td>TGTAGCGCAAGA</td>\n",
       "      <td>0.165716</td>\n",
       "      <td>0.577324</td>\n",
       "      <td>163795</td>\n",
       "      <td>1.823763</td>\n",
       "      <td>-45</td>\n",
       "    </tr>\n",
       "  </tbody>\n",
       "</table>\n",
       "</div>"
      ],
      "text/plain": [
       "                   motif  sequence  seq_idx start end strand      score  \\\n",
       "12    SPIB.H12CORE.1.S.C         1        1     1  14      +  10.095720   \n",
       "5      EHF.H12CORE.0.P.B         1        1     1  16      +   9.409240   \n",
       "11    SPI1.H12CORE.0.P.B         1        1     1  15      +   7.670585   \n",
       "3   CEBPG.H12CORE.1.SM.B         0        0     0  12      -   7.931759   \n",
       "4    KAISO.H12CORE.0.P.B         0        0     2  13      +   8.282666   \n",
       "0    CEBPA.H12CORE.0.P.B         0        0     0  12      +   7.964049   \n",
       "\n",
       "     p-value      matched_seq  site_attr_score  motif_attr_score    peak  \\\n",
       "12  0.000022    AAATCAGGAACTT         0.119940          0.396839  163878   \n",
       "5   0.000136  AAATCAGGAACTTGT         0.114074          0.299387  163878   \n",
       "11  0.000147   AAATCAGGAACTTG         0.116095          0.339366  163878   \n",
       "3   0.000198     TGTAGCGCAAGA         0.165716          0.589583  163795   \n",
       "4   0.000324      TAGCGCAAGAG         0.162170          0.444266  163795   \n",
       "0   0.000345     TGTAGCGCAAGA         0.165716          0.577324  163795   \n",
       "\n",
       "      height  from_tss  \n",
       "12  1.186533        38  \n",
       "5   1.186533        38  \n",
       "11  1.186533        38  \n",
       "3   1.823763       -45  \n",
       "4   1.823763       -45  \n",
       "0   1.823763       -45  "
      ]
     },
     "execution_count": 34,
     "metadata": {},
     "output_type": "execute_result"
    }
   ],
   "source": [
    "results.sort_values('p-value').groupby('peak').head(3)"
   ]
  },
  {
   "cell_type": "markdown",
   "id": "ef398536-155c-495b-9916-32d0bc609505",
   "metadata": {},
   "source": [
    "## How to predict variant impact"
   ]
  },
  {
   "cell_type": "markdown",
   "id": "f536ccdb-55b8-4385-a1ff-4c3aeb2e5e2a",
   "metadata": {},
   "source": [
    "To predict variant impact, Decima requires a dataframe containing variant columns (chrom, pos, ref, alt), as well as the gene name. Optionally, the cell type of interest can also be included."
   ]
  },
  {
   "cell_type": "markdown",
   "id": "8716bca5-835d-46a4-ae36-db9771c73883",
   "metadata": {},
   "source": [
    "We will use a few fine-mapped eQTLs in this example."
   ]
  },
  {
   "cell_type": "code",
   "execution_count": 35,
   "id": "3ac3cab0-563e-4b2d-ae45-d70329d8dce5",
   "metadata": {},
   "outputs": [
    {
     "data": {
      "text/html": [
       "<div>\n",
       "<style scoped>\n",
       "    .dataframe tbody tr th:only-of-type {\n",
       "        vertical-align: middle;\n",
       "    }\n",
       "\n",
       "    .dataframe tbody tr th {\n",
       "        vertical-align: top;\n",
       "    }\n",
       "\n",
       "    .dataframe thead th {\n",
       "        text-align: right;\n",
       "    }\n",
       "</style>\n",
       "<table border=\"1\" class=\"dataframe\">\n",
       "  <thead>\n",
       "    <tr style=\"text-align: right;\">\n",
       "      <th></th>\n",
       "      <th>chrom</th>\n",
       "      <th>pos</th>\n",
       "      <th>ref</th>\n",
       "      <th>alt</th>\n",
       "      <th>gene</th>\n",
       "      <th>rsid</th>\n",
       "    </tr>\n",
       "  </thead>\n",
       "  <tbody>\n",
       "    <tr>\n",
       "      <th>0</th>\n",
       "      <td>chr1</td>\n",
       "      <td>1000018</td>\n",
       "      <td>G</td>\n",
       "      <td>A</td>\n",
       "      <td>ISG15</td>\n",
       "      <td>rs146254088</td>\n",
       "    </tr>\n",
       "    <tr>\n",
       "      <th>1</th>\n",
       "      <td>chr1</td>\n",
       "      <td>1002308</td>\n",
       "      <td>T</td>\n",
       "      <td>C</td>\n",
       "      <td>ISG15</td>\n",
       "      <td>rs2489000</td>\n",
       "    </tr>\n",
       "    <tr>\n",
       "      <th>2</th>\n",
       "      <td>chr1</td>\n",
       "      <td>109727471</td>\n",
       "      <td>A</td>\n",
       "      <td>C</td>\n",
       "      <td>GSTM3</td>\n",
       "      <td>rs11101994</td>\n",
       "    </tr>\n",
       "    <tr>\n",
       "      <th>3</th>\n",
       "      <td>chr1</td>\n",
       "      <td>109728286</td>\n",
       "      <td>T</td>\n",
       "      <td>G</td>\n",
       "      <td>GSTM3</td>\n",
       "      <td>rs4540683</td>\n",
       "    </tr>\n",
       "    <tr>\n",
       "      <th>4</th>\n",
       "      <td>chr1</td>\n",
       "      <td>109728807</td>\n",
       "      <td>T</td>\n",
       "      <td>G</td>\n",
       "      <td>GSTM3</td>\n",
       "      <td>rs4970775</td>\n",
       "    </tr>\n",
       "  </tbody>\n",
       "</table>\n",
       "</div>"
      ],
      "text/plain": [
       "  chrom        pos ref alt   gene         rsid\n",
       "0  chr1    1000018   G   A  ISG15  rs146254088\n",
       "1  chr1    1002308   T   C  ISG15    rs2489000\n",
       "2  chr1  109727471   A   C  GSTM3   rs11101994\n",
       "3  chr1  109728286   T   G  GSTM3    rs4540683\n",
       "4  chr1  109728807   T   G  GSTM3    rs4970775"
      ]
     },
     "execution_count": 35,
     "metadata": {},
     "output_type": "execute_result"
    }
   ],
   "source": [
    "variant_df = pd.read_table(\"variants.tsv\")\n",
    "variant_df"
   ]
  },
  {
   "cell_type": "markdown",
   "id": "237110c0-5e6f-4ebf-bdb0-a67ec479f230",
   "metadata": {},
   "source": [
    "We first need to ensure that these variants are close enough to a gene."
   ]
  },
  {
   "cell_type": "code",
   "execution_count": 38,
   "id": "ba8ee60e-913e-491e-81bc-11440e91ef47",
   "metadata": {},
   "outputs": [],
   "source": [
    "from decima.variant import process_variants"
   ]
  },
  {
   "cell_type": "code",
   "execution_count": 39,
   "id": "b468ccba-1018-4e5d-acd3-f74e59add0d0",
   "metadata": {},
   "outputs": [
    {
     "name": "stdout",
     "output_type": "stream",
     "text": [
      "dropped 0 variants because the gene was not found in ad.var\n",
      "dropped 0 variants because the variant did not fit in the interval\n"
     ]
    },
    {
     "data": {
      "text/html": [
       "<div>\n",
       "<style scoped>\n",
       "    .dataframe tbody tr th:only-of-type {\n",
       "        vertical-align: middle;\n",
       "    }\n",
       "\n",
       "    .dataframe tbody tr th {\n",
       "        vertical-align: top;\n",
       "    }\n",
       "\n",
       "    .dataframe thead th {\n",
       "        text-align: right;\n",
       "    }\n",
       "</style>\n",
       "<table border=\"1\" class=\"dataframe\">\n",
       "  <thead>\n",
       "    <tr style=\"text-align: right;\">\n",
       "      <th></th>\n",
       "      <th>chrom</th>\n",
       "      <th>pos</th>\n",
       "      <th>ref</th>\n",
       "      <th>alt</th>\n",
       "      <th>gene</th>\n",
       "      <th>rsid</th>\n",
       "      <th>start</th>\n",
       "      <th>end</th>\n",
       "      <th>strand</th>\n",
       "      <th>gene_mask_start</th>\n",
       "      <th>rel_pos</th>\n",
       "      <th>ref_tx</th>\n",
       "      <th>alt_tx</th>\n",
       "      <th>tss_dist</th>\n",
       "    </tr>\n",
       "  </thead>\n",
       "  <tbody>\n",
       "    <tr>\n",
       "      <th>0</th>\n",
       "      <td>chr1</td>\n",
       "      <td>1000018</td>\n",
       "      <td>G</td>\n",
       "      <td>A</td>\n",
       "      <td>ISG15</td>\n",
       "      <td>rs146254088</td>\n",
       "      <td>837298</td>\n",
       "      <td>1361586</td>\n",
       "      <td>+</td>\n",
       "      <td>163840</td>\n",
       "      <td>162720</td>\n",
       "      <td>G</td>\n",
       "      <td>A</td>\n",
       "      <td>-1120</td>\n",
       "    </tr>\n",
       "    <tr>\n",
       "      <th>1</th>\n",
       "      <td>chr1</td>\n",
       "      <td>1002308</td>\n",
       "      <td>T</td>\n",
       "      <td>C</td>\n",
       "      <td>ISG15</td>\n",
       "      <td>rs2489000</td>\n",
       "      <td>837298</td>\n",
       "      <td>1361586</td>\n",
       "      <td>+</td>\n",
       "      <td>163840</td>\n",
       "      <td>165010</td>\n",
       "      <td>T</td>\n",
       "      <td>C</td>\n",
       "      <td>1170</td>\n",
       "    </tr>\n",
       "    <tr>\n",
       "      <th>2</th>\n",
       "      <td>chr1</td>\n",
       "      <td>109727471</td>\n",
       "      <td>A</td>\n",
       "      <td>C</td>\n",
       "      <td>GSTM3</td>\n",
       "      <td>rs11101994</td>\n",
       "      <td>109380590</td>\n",
       "      <td>109904878</td>\n",
       "      <td>-</td>\n",
       "      <td>163840</td>\n",
       "      <td>177407</td>\n",
       "      <td>T</td>\n",
       "      <td>G</td>\n",
       "      <td>13567</td>\n",
       "    </tr>\n",
       "    <tr>\n",
       "      <th>3</th>\n",
       "      <td>chr1</td>\n",
       "      <td>109728286</td>\n",
       "      <td>T</td>\n",
       "      <td>G</td>\n",
       "      <td>GSTM3</td>\n",
       "      <td>rs4540683</td>\n",
       "      <td>109380590</td>\n",
       "      <td>109904878</td>\n",
       "      <td>-</td>\n",
       "      <td>163840</td>\n",
       "      <td>176592</td>\n",
       "      <td>A</td>\n",
       "      <td>C</td>\n",
       "      <td>12752</td>\n",
       "    </tr>\n",
       "    <tr>\n",
       "      <th>4</th>\n",
       "      <td>chr1</td>\n",
       "      <td>109728807</td>\n",
       "      <td>T</td>\n",
       "      <td>G</td>\n",
       "      <td>GSTM3</td>\n",
       "      <td>rs4970775</td>\n",
       "      <td>109380590</td>\n",
       "      <td>109904878</td>\n",
       "      <td>-</td>\n",
       "      <td>163840</td>\n",
       "      <td>176071</td>\n",
       "      <td>A</td>\n",
       "      <td>C</td>\n",
       "      <td>12231</td>\n",
       "    </tr>\n",
       "  </tbody>\n",
       "</table>\n",
       "</div>"
      ],
      "text/plain": [
       "  chrom        pos ref alt   gene         rsid      start        end strand  \\\n",
       "0  chr1    1000018   G   A  ISG15  rs146254088     837298    1361586      +   \n",
       "1  chr1    1002308   T   C  ISG15    rs2489000     837298    1361586      +   \n",
       "2  chr1  109727471   A   C  GSTM3   rs11101994  109380590  109904878      -   \n",
       "3  chr1  109728286   T   G  GSTM3    rs4540683  109380590  109904878      -   \n",
       "4  chr1  109728807   T   G  GSTM3    rs4970775  109380590  109904878      -   \n",
       "\n",
       "   gene_mask_start  rel_pos ref_tx alt_tx  tss_dist  \n",
       "0           163840   162720      G      A     -1120  \n",
       "1           163840   165010      T      C      1170  \n",
       "2           163840   177407      T      G     13567  \n",
       "3           163840   176592      A      C     12752  \n",
       "4           163840   176071      A      C     12231  "
      ]
     },
     "execution_count": 39,
     "metadata": {},
     "output_type": "execute_result"
    }
   ],
   "source": [
    "variant_df = process_variants(variant_df, ad, min_from_end=5000)\n",
    "variant_df"
   ]
  },
  {
   "cell_type": "markdown",
   "id": "a5809655-ca60-4fde-beeb-f1435a111372",
   "metadata": {},
   "source": [
    "Now we can create the reference and alternate allele containing inputs:"
   ]
  },
  {
   "cell_type": "code",
   "execution_count": 40,
   "id": "7e6bebe5-5f68-4860-9ab7-e642e8087465",
   "metadata": {},
   "outputs": [],
   "source": [
    "from decima.read_hdf5 import VariantDataset"
   ]
  },
  {
   "cell_type": "code",
   "execution_count": 64,
   "id": "e0bd0674-7a25-4172-8e66-5539478aefea",
   "metadata": {},
   "outputs": [
    {
     "name": "stdout",
     "output_type": "stream",
     "text": [
      "One-hot encoding sequence\n",
      "Making gene mask\n",
      "One-hot encoding sequence\n",
      "Making gene mask\n"
     ]
    }
   ],
   "source": [
    "import decima.read_hdf5\n",
    "dataset = decima.read_hdf5.VariantDataset(variant_df, ad=ad)"
   ]
  },
  {
   "cell_type": "code",
   "execution_count": 65,
   "id": "6b1bd396-60fb-40a3-9627-63b88de89f27",
   "metadata": {},
   "outputs": [],
   "source": [
    "ref = dataset[0]\n",
    "alt = dataset[1]"
   ]
  },
  {
   "cell_type": "code",
   "execution_count": 66,
   "id": "4bd4292c-b878-4ffb-bed9-3188531ea473",
   "metadata": {},
   "outputs": [
    {
     "data": {
      "text/plain": [
       "(torch.Size([5, 524288]), torch.Size([5, 524288]))"
      ]
     },
     "execution_count": 66,
     "metadata": {},
     "output_type": "execute_result"
    }
   ],
   "source": [
    "ref.shape, alt.shape"
   ]
  },
  {
   "cell_type": "code",
   "execution_count": 67,
   "id": "fae19c30-0b08-4db7-bb8b-19e557079676",
   "metadata": {},
   "outputs": [
    {
     "data": {
      "text/plain": [
       "(array([0, 2]), array([162720, 162720]))"
      ]
     },
     "execution_count": 67,
     "metadata": {},
     "output_type": "execute_result"
    }
   ],
   "source": [
    "np.where(ref!=alt)"
   ]
  },
  {
   "cell_type": "code",
   "execution_count": 68,
   "id": "92b6d89d-babe-4331-ae4a-8e5f99270997",
   "metadata": {},
   "outputs": [
    {
     "data": {
      "text/plain": [
       "162720"
      ]
     },
     "execution_count": 68,
     "metadata": {},
     "output_type": "execute_result"
    }
   ],
   "source": [
    "1000018-837298"
   ]
  },
  {
   "cell_type": "markdown",
   "id": "d8d53466-db5d-41f6-9134-f5ac681e1c9c",
   "metadata": {},
   "source": [
    "Also, suppose we only want to make predictions in selected cell types, we can subset those tracks using the `Aggregate` transform."
   ]
  },
  {
   "cell_type": "code",
   "execution_count": 75,
   "id": "f6f476ab-0fb1-4df8-8136-8f05845c70fe",
   "metadata": {},
   "outputs": [
    {
     "data": {
      "text/plain": [
       "38"
      ]
     },
     "execution_count": 75,
     "metadata": {},
     "output_type": "execute_result"
    }
   ],
   "source": [
    "relevant_tasks = ad.obs.index[(ad.obs.tissue==\"blood\") & (ad.obs.disease.isin([\"healthy\", \"NA\"])) & (ad.obs.cell_type=='CD8-positive, alpha-beta T cell')].tolist()\n",
    "len(relevant_tasks)"
   ]
  },
  {
   "cell_type": "code",
   "execution_count": 78,
   "id": "71edf105-1beb-41a5-bdbd-1fa824cd116e",
   "metadata": {},
   "outputs": [],
   "source": [
    "from grelu.transforms.prediction_transforms import Aggregate"
   ]
  },
  {
   "cell_type": "code",
   "execution_count": 79,
   "id": "6f01cab0-77d4-4493-ad2c-d9e837925bbc",
   "metadata": {},
   "outputs": [],
   "source": [
    "agg_transform = Aggregate(tasks=relevant_tasks, model=model)\n",
    "model.add_transform(agg_transform)"
   ]
  },
  {
   "cell_type": "markdown",
   "id": "cf26d615-5a20-4136-b5d3-bf7201757a6e",
   "metadata": {},
   "source": [
    "Now we can compute variant effects:"
   ]
  },
  {
   "cell_type": "code",
   "execution_count": 80,
   "id": "d230d764-0211-48a6-a2bd-8a62304f7b9d",
   "metadata": {},
   "outputs": [
    {
     "name": "stderr",
     "output_type": "stream",
     "text": [
      "GPU available: True (cuda), used: True\n",
      "TPU available: False, using: 0 TPU cores\n",
      "HPU available: False, using: 0 HPUs\n",
      "Missing logger folder: /code/github/decima/tutorials/lightning_logs\n",
      "LOCAL_RANK: 0 - CUDA_VISIBLE_DEVICES: [0,1,2,3,4,5,6,7]\n"
     ]
    },
    {
     "name": "stdout",
     "output_type": "stream",
     "text": [
      "Predicting DataLoader 0: 100%|███████████████████████████████████████████████████████████████████████████████████████████████████████████████████████████████████████████████████████████████████████████████| 2/2 [00:01<00:00,  1.59it/s]\n"
     ]
    },
    {
     "data": {
      "text/plain": [
       "(5, 38)"
      ]
     },
     "execution_count": 80,
     "metadata": {},
     "output_type": "execute_result"
    }
   ],
   "source": [
    "preds = model.predict_on_dataset(dataset, devices=0, batch_size=8, num_workers=16)\n",
    "preds = anndata.AnnData(X=preds, obs=variant_df.set_index('rsid'), var=ad.obs.loc[relevant_tasks])\n",
    "preds.shape"
   ]
  },
  {
   "cell_type": "code",
   "execution_count": 81,
   "id": "3d87cdc2-2514-422f-9f0a-6739a6b824f8",
   "metadata": {},
   "outputs": [
    {
     "data": {
      "text/plain": [
       "AnnData object with n_obs × n_vars = 5 × 38\n",
       "    obs: 'chrom', 'pos', 'ref', 'alt', 'gene', 'start', 'end', 'strand', 'gene_mask_start', 'rel_pos', 'ref_tx', 'alt_tx', 'tss_dist'\n",
       "    var: 'cell_type', 'tissue', 'organ', 'disease', 'study', 'dataset', 'region', 'subregion', 'celltype_coarse', 'n_cells', 'total_counts', 'n_genes', 'size_factor', 'train_pearson', 'val_pearson', 'test_pearson'"
      ]
     },
     "execution_count": 81,
     "metadata": {},
     "output_type": "execute_result"
    }
   ],
   "source": [
    "preds"
   ]
  },
  {
   "cell_type": "code",
   "execution_count": 82,
   "id": "801bf506-2d0b-4dbb-960c-2c192598e0ea",
   "metadata": {},
   "outputs": [
    {
     "data": {
      "text/html": [
       "<div>\n",
       "<style scoped>\n",
       "    .dataframe tbody tr th:only-of-type {\n",
       "        vertical-align: middle;\n",
       "    }\n",
       "\n",
       "    .dataframe tbody tr th {\n",
       "        vertical-align: top;\n",
       "    }\n",
       "\n",
       "    .dataframe thead th {\n",
       "        text-align: right;\n",
       "    }\n",
       "</style>\n",
       "<table border=\"1\" class=\"dataframe\">\n",
       "  <thead>\n",
       "    <tr style=\"text-align: right;\">\n",
       "      <th></th>\n",
       "      <th>chrom</th>\n",
       "      <th>pos</th>\n",
       "      <th>ref</th>\n",
       "      <th>alt</th>\n",
       "      <th>gene</th>\n",
       "      <th>start</th>\n",
       "      <th>end</th>\n",
       "      <th>strand</th>\n",
       "      <th>gene_mask_start</th>\n",
       "      <th>rel_pos</th>\n",
       "      <th>ref_tx</th>\n",
       "      <th>alt_tx</th>\n",
       "      <th>tss_dist</th>\n",
       "    </tr>\n",
       "    <tr>\n",
       "      <th>rsid</th>\n",
       "      <th></th>\n",
       "      <th></th>\n",
       "      <th></th>\n",
       "      <th></th>\n",
       "      <th></th>\n",
       "      <th></th>\n",
       "      <th></th>\n",
       "      <th></th>\n",
       "      <th></th>\n",
       "      <th></th>\n",
       "      <th></th>\n",
       "      <th></th>\n",
       "      <th></th>\n",
       "    </tr>\n",
       "  </thead>\n",
       "  <tbody>\n",
       "    <tr>\n",
       "      <th>rs146254088</th>\n",
       "      <td>chr1</td>\n",
       "      <td>1000018</td>\n",
       "      <td>G</td>\n",
       "      <td>A</td>\n",
       "      <td>ISG15</td>\n",
       "      <td>837298</td>\n",
       "      <td>1361586</td>\n",
       "      <td>+</td>\n",
       "      <td>163840</td>\n",
       "      <td>162720</td>\n",
       "      <td>G</td>\n",
       "      <td>A</td>\n",
       "      <td>-1120</td>\n",
       "    </tr>\n",
       "    <tr>\n",
       "      <th>rs2489000</th>\n",
       "      <td>chr1</td>\n",
       "      <td>1002308</td>\n",
       "      <td>T</td>\n",
       "      <td>C</td>\n",
       "      <td>ISG15</td>\n",
       "      <td>837298</td>\n",
       "      <td>1361586</td>\n",
       "      <td>+</td>\n",
       "      <td>163840</td>\n",
       "      <td>165010</td>\n",
       "      <td>T</td>\n",
       "      <td>C</td>\n",
       "      <td>1170</td>\n",
       "    </tr>\n",
       "    <tr>\n",
       "      <th>rs11101994</th>\n",
       "      <td>chr1</td>\n",
       "      <td>109727471</td>\n",
       "      <td>A</td>\n",
       "      <td>C</td>\n",
       "      <td>GSTM3</td>\n",
       "      <td>109380590</td>\n",
       "      <td>109904878</td>\n",
       "      <td>-</td>\n",
       "      <td>163840</td>\n",
       "      <td>177407</td>\n",
       "      <td>T</td>\n",
       "      <td>G</td>\n",
       "      <td>13567</td>\n",
       "    </tr>\n",
       "    <tr>\n",
       "      <th>rs4540683</th>\n",
       "      <td>chr1</td>\n",
       "      <td>109728286</td>\n",
       "      <td>T</td>\n",
       "      <td>G</td>\n",
       "      <td>GSTM3</td>\n",
       "      <td>109380590</td>\n",
       "      <td>109904878</td>\n",
       "      <td>-</td>\n",
       "      <td>163840</td>\n",
       "      <td>176592</td>\n",
       "      <td>A</td>\n",
       "      <td>C</td>\n",
       "      <td>12752</td>\n",
       "    </tr>\n",
       "    <tr>\n",
       "      <th>rs4970775</th>\n",
       "      <td>chr1</td>\n",
       "      <td>109728807</td>\n",
       "      <td>T</td>\n",
       "      <td>G</td>\n",
       "      <td>GSTM3</td>\n",
       "      <td>109380590</td>\n",
       "      <td>109904878</td>\n",
       "      <td>-</td>\n",
       "      <td>163840</td>\n",
       "      <td>176071</td>\n",
       "      <td>A</td>\n",
       "      <td>C</td>\n",
       "      <td>12231</td>\n",
       "    </tr>\n",
       "  </tbody>\n",
       "</table>\n",
       "</div>"
      ],
      "text/plain": [
       "            chrom        pos ref alt   gene      start        end strand  \\\n",
       "rsid                                                                       \n",
       "rs146254088  chr1    1000018   G   A  ISG15     837298    1361586      +   \n",
       "rs2489000    chr1    1002308   T   C  ISG15     837298    1361586      +   \n",
       "rs11101994   chr1  109727471   A   C  GSTM3  109380590  109904878      -   \n",
       "rs4540683    chr1  109728286   T   G  GSTM3  109380590  109904878      -   \n",
       "rs4970775    chr1  109728807   T   G  GSTM3  109380590  109904878      -   \n",
       "\n",
       "             gene_mask_start  rel_pos ref_tx alt_tx  tss_dist  \n",
       "rsid                                                           \n",
       "rs146254088           163840   162720      G      A     -1120  \n",
       "rs2489000             163840   165010      T      C      1170  \n",
       "rs11101994            163840   177407      T      G     13567  \n",
       "rs4540683             163840   176592      A      C     12752  \n",
       "rs4970775             163840   176071      A      C     12231  "
      ]
     },
     "execution_count": 82,
     "metadata": {},
     "output_type": "execute_result"
    }
   ],
   "source": [
    "preds.obs"
   ]
  },
  {
   "cell_type": "code",
   "execution_count": 83,
   "id": "f1675588-e6d1-471a-9a8f-5eb95633d078",
   "metadata": {},
   "outputs": [
    {
     "data": {
      "text/html": [
       "<div>\n",
       "<style scoped>\n",
       "    .dataframe tbody tr th:only-of-type {\n",
       "        vertical-align: middle;\n",
       "    }\n",
       "\n",
       "    .dataframe tbody tr th {\n",
       "        vertical-align: top;\n",
       "    }\n",
       "\n",
       "    .dataframe thead th {\n",
       "        text-align: right;\n",
       "    }\n",
       "</style>\n",
       "<table border=\"1\" class=\"dataframe\">\n",
       "  <thead>\n",
       "    <tr style=\"text-align: right;\">\n",
       "      <th></th>\n",
       "      <th>cell_type</th>\n",
       "      <th>tissue</th>\n",
       "      <th>organ</th>\n",
       "      <th>disease</th>\n",
       "      <th>study</th>\n",
       "      <th>dataset</th>\n",
       "      <th>region</th>\n",
       "      <th>subregion</th>\n",
       "      <th>celltype_coarse</th>\n",
       "      <th>n_cells</th>\n",
       "      <th>total_counts</th>\n",
       "      <th>n_genes</th>\n",
       "      <th>size_factor</th>\n",
       "      <th>train_pearson</th>\n",
       "      <th>val_pearson</th>\n",
       "      <th>test_pearson</th>\n",
       "    </tr>\n",
       "  </thead>\n",
       "  <tbody>\n",
       "    <tr>\n",
       "      <th>agg_843</th>\n",
       "      <td>CD8-positive, alpha-beta T cell</td>\n",
       "      <td>blood</td>\n",
       "      <td>blood</td>\n",
       "      <td>NA</td>\n",
       "      <td>GSE128243</td>\n",
       "      <td>scimilarity</td>\n",
       "      <td>nan</td>\n",
       "      <td>nan</td>\n",
       "      <td>NaN</td>\n",
       "      <td>5597</td>\n",
       "      <td>10483704.0</td>\n",
       "      <td>13250</td>\n",
       "      <td>28325.408660</td>\n",
       "      <td>0.941655</td>\n",
       "      <td>0.808412</td>\n",
       "      <td>0.813604</td>\n",
       "    </tr>\n",
       "    <tr>\n",
       "      <th>agg_844</th>\n",
       "      <td>CD8-positive, alpha-beta T cell</td>\n",
       "      <td>blood</td>\n",
       "      <td>blood</td>\n",
       "      <td>NA</td>\n",
       "      <td>GSE132950</td>\n",
       "      <td>scimilarity</td>\n",
       "      <td>nan</td>\n",
       "      <td>nan</td>\n",
       "      <td>NaN</td>\n",
       "      <td>1334</td>\n",
       "      <td>7219685.0</td>\n",
       "      <td>13394</td>\n",
       "      <td>32566.675556</td>\n",
       "      <td>0.964465</td>\n",
       "      <td>0.847792</td>\n",
       "      <td>0.843420</td>\n",
       "    </tr>\n",
       "    <tr>\n",
       "      <th>agg_845</th>\n",
       "      <td>CD8-positive, alpha-beta T cell</td>\n",
       "      <td>blood</td>\n",
       "      <td>blood</td>\n",
       "      <td>NA</td>\n",
       "      <td>GSE135325</td>\n",
       "      <td>scimilarity</td>\n",
       "      <td>nan</td>\n",
       "      <td>nan</td>\n",
       "      <td>NaN</td>\n",
       "      <td>261</td>\n",
       "      <td>612912.0</td>\n",
       "      <td>10905</td>\n",
       "      <td>29777.260442</td>\n",
       "      <td>0.936802</td>\n",
       "      <td>0.808541</td>\n",
       "      <td>0.801103</td>\n",
       "    </tr>\n",
       "    <tr>\n",
       "      <th>agg_847</th>\n",
       "      <td>CD8-positive, alpha-beta T cell</td>\n",
       "      <td>blood</td>\n",
       "      <td>blood</td>\n",
       "      <td>NA</td>\n",
       "      <td>GSE149356</td>\n",
       "      <td>scimilarity</td>\n",
       "      <td>nan</td>\n",
       "      <td>nan</td>\n",
       "      <td>NaN</td>\n",
       "      <td>2054</td>\n",
       "      <td>7534250.0</td>\n",
       "      <td>13387</td>\n",
       "      <td>33923.162424</td>\n",
       "      <td>0.951058</td>\n",
       "      <td>0.818623</td>\n",
       "      <td>0.830627</td>\n",
       "    </tr>\n",
       "    <tr>\n",
       "      <th>agg_849</th>\n",
       "      <td>CD8-positive, alpha-beta T cell</td>\n",
       "      <td>blood</td>\n",
       "      <td>blood</td>\n",
       "      <td>NA</td>\n",
       "      <td>GSE151310</td>\n",
       "      <td>scimilarity</td>\n",
       "      <td>nan</td>\n",
       "      <td>nan</td>\n",
       "      <td>NaN</td>\n",
       "      <td>12443</td>\n",
       "      <td>29209159.0</td>\n",
       "      <td>13809</td>\n",
       "      <td>29807.259230</td>\n",
       "      <td>0.965129</td>\n",
       "      <td>0.829639</td>\n",
       "      <td>0.820742</td>\n",
       "    </tr>\n",
       "  </tbody>\n",
       "</table>\n",
       "</div>"
      ],
      "text/plain": [
       "                               cell_type tissue  organ disease      study  \\\n",
       "agg_843  CD8-positive, alpha-beta T cell  blood  blood      NA  GSE128243   \n",
       "agg_844  CD8-positive, alpha-beta T cell  blood  blood      NA  GSE132950   \n",
       "agg_845  CD8-positive, alpha-beta T cell  blood  blood      NA  GSE135325   \n",
       "agg_847  CD8-positive, alpha-beta T cell  blood  blood      NA  GSE149356   \n",
       "agg_849  CD8-positive, alpha-beta T cell  blood  blood      NA  GSE151310   \n",
       "\n",
       "             dataset region subregion celltype_coarse  n_cells  total_counts  \\\n",
       "agg_843  scimilarity    nan       nan             NaN     5597    10483704.0   \n",
       "agg_844  scimilarity    nan       nan             NaN     1334     7219685.0   \n",
       "agg_845  scimilarity    nan       nan             NaN      261      612912.0   \n",
       "agg_847  scimilarity    nan       nan             NaN     2054     7534250.0   \n",
       "agg_849  scimilarity    nan       nan             NaN    12443    29209159.0   \n",
       "\n",
       "         n_genes   size_factor  train_pearson  val_pearson  test_pearson  \n",
       "agg_843    13250  28325.408660       0.941655     0.808412      0.813604  \n",
       "agg_844    13394  32566.675556       0.964465     0.847792      0.843420  \n",
       "agg_845    10905  29777.260442       0.936802     0.808541      0.801103  \n",
       "agg_847    13387  33923.162424       0.951058     0.818623      0.830627  \n",
       "agg_849    13809  29807.259230       0.965129     0.829639      0.820742  "
      ]
     },
     "execution_count": 83,
     "metadata": {},
     "output_type": "execute_result"
    }
   ],
   "source": [
    "preds.var.head()"
   ]
  },
  {
   "cell_type": "code",
   "execution_count": 84,
   "id": "223af146-c1e5-4772-b94f-2e549d189da5",
   "metadata": {},
   "outputs": [
    {
     "data": {
      "text/plain": [
       "(5, 38)"
      ]
     },
     "execution_count": 84,
     "metadata": {},
     "output_type": "execute_result"
    }
   ],
   "source": [
    "preds.X.shape"
   ]
  },
  {
   "cell_type": "markdown",
   "id": "0b4c5fee-f2ea-4280-a810-f81d2d6a2e9a",
   "metadata": {},
   "source": [
    "The values in X correspond to the predicted log fold changes in gene expression (alt - ref) in each of 38 pseudobulks matching the selected cell type."
   ]
  },
  {
   "cell_type": "code",
   "execution_count": null,
   "id": "fe6f7e5b-acd5-4fc0-b579-b4fa503a9aba",
   "metadata": {},
   "outputs": [],
   "source": []
  }
 ],
 "metadata": {
  "kernelspec": {
   "display_name": "Python 3 (ipykernel)",
   "language": "python",
   "name": "python3"
  },
  "language_info": {
   "codemirror_mode": {
    "name": "ipython",
    "version": 3
   },
   "file_extension": ".py",
   "mimetype": "text/x-python",
   "name": "python",
   "nbconvert_exporter": "python",
   "pygments_lexer": "ipython3",
   "version": "3.11.9"
  }
 },
 "nbformat": 4,
 "nbformat_minor": 5
}
